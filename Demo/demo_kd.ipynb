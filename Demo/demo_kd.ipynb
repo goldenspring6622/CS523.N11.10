{
  "cells": [
    {
      "cell_type": "code",
      "execution_count": 32,
      "metadata": {
        "colab": {
          "base_uri": "https://localhost:8080/",
          "height": 531
        },
        "id": "IWLGSZzj3pyX",
        "outputId": "9488e45f-efe1-4e16-c69d-57cf0995765d"
      },
      "outputs": [
        {
          "data": {
            "text/html": [
              "<div>\n",
              "<style scoped>\n",
              "    .dataframe tbody tr th:only-of-type {\n",
              "        vertical-align: middle;\n",
              "    }\n",
              "\n",
              "    .dataframe tbody tr th {\n",
              "        vertical-align: top;\n",
              "    }\n",
              "\n",
              "    .dataframe thead th {\n",
              "        text-align: right;\n",
              "    }\n",
              "</style>\n",
              "<table border=\"1\" class=\"dataframe\">\n",
              "  <thead>\n",
              "    <tr style=\"text-align: right;\">\n",
              "      <th></th>\n",
              "      <th>Restaurant Name</th>\n",
              "      <th>City</th>\n",
              "      <th>Address</th>\n",
              "      <th>Longitude</th>\n",
              "      <th>Latitude</th>\n",
              "      <th>Rating text</th>\n",
              "    </tr>\n",
              "  </thead>\n",
              "  <tbody>\n",
              "    <tr>\n",
              "      <th>0</th>\n",
              "      <td>Le Petit Souffle</td>\n",
              "      <td>Makati City</td>\n",
              "      <td>Third Floor, Century City Mall, Kalayaan Avenue, Poblacion, Makati City</td>\n",
              "      <td>121.027535</td>\n",
              "      <td>14.565443</td>\n",
              "      <td>Excellent</td>\n",
              "    </tr>\n",
              "    <tr>\n",
              "      <th>1</th>\n",
              "      <td>Izakaya Kikufuji</td>\n",
              "      <td>Makati City</td>\n",
              "      <td>Little Tokyo, 2277 Chino Roces Avenue, Legaspi Village, Makati City</td>\n",
              "      <td>121.014101</td>\n",
              "      <td>14.553708</td>\n",
              "      <td>Excellent</td>\n",
              "    </tr>\n",
              "    <tr>\n",
              "      <th>2</th>\n",
              "      <td>Heat - Edsa Shangri-La</td>\n",
              "      <td>Mandaluyong City</td>\n",
              "      <td>Edsa Shangri-La, 1 Garden Way, Ortigas, Mandaluyong City</td>\n",
              "      <td>121.056831</td>\n",
              "      <td>14.581404</td>\n",
              "      <td>Very Good</td>\n",
              "    </tr>\n",
              "    <tr>\n",
              "      <th>3</th>\n",
              "      <td>Ooma</td>\n",
              "      <td>Mandaluyong City</td>\n",
              "      <td>Third Floor, Mega Fashion Hall, SM Megamall, Ortigas, Mandaluyong City</td>\n",
              "      <td>121.056475</td>\n",
              "      <td>14.585318</td>\n",
              "      <td>Excellent</td>\n",
              "    </tr>\n",
              "    <tr>\n",
              "      <th>4</th>\n",
              "      <td>Sambo Kojin</td>\n",
              "      <td>Mandaluyong City</td>\n",
              "      <td>Third Floor, Mega Atrium, SM Megamall, Ortigas, Mandaluyong City</td>\n",
              "      <td>121.057508</td>\n",
              "      <td>14.584450</td>\n",
              "      <td>Excellent</td>\n",
              "    </tr>\n",
              "  </tbody>\n",
              "</table>\n",
              "</div>"
            ],
            "text/plain": [
              "          Restaurant Name              City  \\\n",
              "0        Le Petit Souffle       Makati City   \n",
              "1        Izakaya Kikufuji       Makati City   \n",
              "2  Heat - Edsa Shangri-La  Mandaluyong City   \n",
              "3                    Ooma  Mandaluyong City   \n",
              "4             Sambo Kojin  Mandaluyong City   \n",
              "\n",
              "                                                                   Address  \\\n",
              "0  Third Floor, Century City Mall, Kalayaan Avenue, Poblacion, Makati City   \n",
              "1      Little Tokyo, 2277 Chino Roces Avenue, Legaspi Village, Makati City   \n",
              "2                 Edsa Shangri-La, 1 Garden Way, Ortigas, Mandaluyong City   \n",
              "3   Third Floor, Mega Fashion Hall, SM Megamall, Ortigas, Mandaluyong City   \n",
              "4         Third Floor, Mega Atrium, SM Megamall, Ortigas, Mandaluyong City   \n",
              "\n",
              "    Longitude   Latitude Rating text  \n",
              "0  121.027535  14.565443   Excellent  \n",
              "1  121.014101  14.553708   Excellent  \n",
              "2  121.056831  14.581404   Very Good  \n",
              "3  121.056475  14.585318   Excellent  \n",
              "4  121.057508  14.584450   Excellent  "
            ]
          },
          "execution_count": 32,
          "metadata": {},
          "output_type": "execute_result"
        }
      ],
      "source": [
        "import pandas as pd\n",
        "from sklearn import preprocessing\n",
        "pd.set_option('max_colwidth', 1000)\n",
        "df = pd.read_csv(\"/Users/lap01569/Desktop/danhhuynh/demo-kd/zomato1.csv\",encoding='latin-1')\n",
        "df.head(5)"
      ]
    },
    {
      "cell_type": "code",
      "execution_count": 33,
      "metadata": {
        "id": "PuYpKY_e6QfR"
      },
      "outputs": [],
      "source": [
        "leCity = preprocessing.LabelEncoder()\n",
        "leCity.fit(df[\"City\"])\n",
        "labelCity = list(leCity.classes_)\n",
        "df[\"City\"] = leCity.transform(df[\"City\"])\n",
        "\n",
        "leRating = preprocessing.LabelEncoder()\n",
        "leRating.fit(df[\"Rating text\"])\n",
        "labelRating =list(leRating.classes_)\n",
        "df[\"Rating text\"] = leRating.transform(df[\"Rating text\"])"
      ]
    },
    {
      "cell_type": "code",
      "execution_count": 34,
      "metadata": {
        "colab": {
          "base_uri": "https://localhost:8080/",
          "height": 441
        },
        "id": "ng0JRAEt7wV1",
        "outputId": "971e107e-025d-4ad4-f4a2-2a065be2f35c"
      },
      "outputs": [
        {
          "data": {
            "text/html": [
              "<div>\n",
              "<style scoped>\n",
              "    .dataframe tbody tr th:only-of-type {\n",
              "        vertical-align: middle;\n",
              "    }\n",
              "\n",
              "    .dataframe tbody tr th {\n",
              "        vertical-align: top;\n",
              "    }\n",
              "\n",
              "    .dataframe thead th {\n",
              "        text-align: right;\n",
              "    }\n",
              "</style>\n",
              "<table border=\"1\" class=\"dataframe\">\n",
              "  <thead>\n",
              "    <tr style=\"text-align: right;\">\n",
              "      <th></th>\n",
              "      <th>Restaurant Name</th>\n",
              "      <th>City</th>\n",
              "      <th>Address</th>\n",
              "      <th>Longitude</th>\n",
              "      <th>Latitude</th>\n",
              "      <th>Rating text</th>\n",
              "    </tr>\n",
              "  </thead>\n",
              "  <tbody>\n",
              "    <tr>\n",
              "      <th>0</th>\n",
              "      <td>Le Petit Souffle</td>\n",
              "      <td>60</td>\n",
              "      <td>Third Floor, Century City Mall, Kalayaan Avenue, Poblacion, Makati City</td>\n",
              "      <td>121.027535</td>\n",
              "      <td>14.565443</td>\n",
              "      <td>1</td>\n",
              "    </tr>\n",
              "    <tr>\n",
              "      <th>1</th>\n",
              "      <td>Izakaya Kikufuji</td>\n",
              "      <td>60</td>\n",
              "      <td>Little Tokyo, 2277 Chino Roces Avenue, Legaspi Village, Makati City</td>\n",
              "      <td>121.014101</td>\n",
              "      <td>14.553708</td>\n",
              "      <td>1</td>\n",
              "    </tr>\n",
              "    <tr>\n",
              "      <th>2</th>\n",
              "      <td>Heat - Edsa Shangri-La</td>\n",
              "      <td>61</td>\n",
              "      <td>Edsa Shangri-La, 1 Garden Way, Ortigas, Mandaluyong City</td>\n",
              "      <td>121.056831</td>\n",
              "      <td>14.581404</td>\n",
              "      <td>5</td>\n",
              "    </tr>\n",
              "    <tr>\n",
              "      <th>3</th>\n",
              "      <td>Ooma</td>\n",
              "      <td>61</td>\n",
              "      <td>Third Floor, Mega Fashion Hall, SM Megamall, Ortigas, Mandaluyong City</td>\n",
              "      <td>121.056475</td>\n",
              "      <td>14.585318</td>\n",
              "      <td>1</td>\n",
              "    </tr>\n",
              "    <tr>\n",
              "      <th>4</th>\n",
              "      <td>Sambo Kojin</td>\n",
              "      <td>61</td>\n",
              "      <td>Third Floor, Mega Atrium, SM Megamall, Ortigas, Mandaluyong City</td>\n",
              "      <td>121.057508</td>\n",
              "      <td>14.584450</td>\n",
              "      <td>1</td>\n",
              "    </tr>\n",
              "  </tbody>\n",
              "</table>\n",
              "</div>"
            ],
            "text/plain": [
              "          Restaurant Name  City  \\\n",
              "0        Le Petit Souffle    60   \n",
              "1        Izakaya Kikufuji    60   \n",
              "2  Heat - Edsa Shangri-La    61   \n",
              "3                    Ooma    61   \n",
              "4             Sambo Kojin    61   \n",
              "\n",
              "                                                                   Address  \\\n",
              "0  Third Floor, Century City Mall, Kalayaan Avenue, Poblacion, Makati City   \n",
              "1      Little Tokyo, 2277 Chino Roces Avenue, Legaspi Village, Makati City   \n",
              "2                 Edsa Shangri-La, 1 Garden Way, Ortigas, Mandaluyong City   \n",
              "3   Third Floor, Mega Fashion Hall, SM Megamall, Ortigas, Mandaluyong City   \n",
              "4         Third Floor, Mega Atrium, SM Megamall, Ortigas, Mandaluyong City   \n",
              "\n",
              "    Longitude   Latitude  Rating text  \n",
              "0  121.027535  14.565443            1  \n",
              "1  121.014101  14.553708            1  \n",
              "2  121.056831  14.581404            5  \n",
              "3  121.056475  14.585318            1  \n",
              "4  121.057508  14.584450            1  "
            ]
          },
          "execution_count": 34,
          "metadata": {},
          "output_type": "execute_result"
        }
      ],
      "source": [
        "df.head(5)"
      ]
    },
    {
      "cell_type": "code",
      "execution_count": 35,
      "metadata": {
        "id": "8rv77eh875ZP"
      },
      "outputs": [],
      "source": [
        "df.to_csv(\"encoded.csv\")"
      ]
    },
    {
      "cell_type": "code",
      "execution_count": 36,
      "metadata": {
        "colab": {
          "base_uri": "https://localhost:8080/"
        },
        "id": "jb4daSYn94BW",
        "outputId": "f7823c1d-e384-4fa2-865d-645987be69a3"
      },
      "outputs": [
        {
          "name": "stdout",
          "output_type": "stream",
          "text": [
            "['Longitude', 'Latitude']\n"
          ]
        }
      ],
      "source": [
        "from sklearn.neighbors import KDTree\n",
        "import numpy as np\n",
        "X = pd.read_csv(\"./encoded.csv\")\n",
        "data = pd.read_csv(\"./zomato1.csv\",encoding=\"latin1\")\n",
        "X.drop('Restaurant Name', inplace=True, axis=1)\n",
        "X.drop('Address', inplace=True, axis=1)\n",
        "X.drop('Unnamed: 0',inplace=True,axis=1)\n",
        "X.drop('City',inplace=True,axis=1)\n",
        "X.drop('Rating text',inplace=True,axis=1)\n",
        "print(X.columns.tolist())"
      ]
    },
    {
      "cell_type": "code",
      "execution_count": 37,
      "metadata": {
        "id": "AwQpAK3BMQnf"
      },
      "outputs": [],
      "source": [
        "tree = KDTree(X)"
      ]
    },
    {
      "cell_type": "code",
      "execution_count": 41,
      "metadata": {
        "id": "sYHa-c0M_KeO"
      },
      "outputs": [],
      "source": [
        "def find(x,y)->list:\n",
        "  # rating = leRating.transform([rating])\n",
        "  # city = leCity.transform([city])\n",
        "  require = [[x,y]]\n",
        "  # print(require)\n",
        "  dist, ind = tree.query(require, k=3)\n",
        "  return ind"
      ]
    },
    {
      "cell_type": "code",
      "execution_count": 39,
      "metadata": {
        "colab": {
          "base_uri": "https://localhost:8080/"
        },
        "id": "lWsriecRKAyZ",
        "outputId": "3d9b9739-e1f5-464b-b577-3efab632b91a"
      },
      "outputs": [
        {
          "name": "stdout",
          "output_type": "stream",
          "text": [
            "['Abu Dhabi', 'Agra', 'Ahmedabad', 'Albany', 'Allahabad', 'Amritsar', 'Armidale', 'Athens', 'Augusta', 'Aurangabad', 'Balingup', 'Bangalore', 'Beechworth', 'Bhopal', 'Bhubaneshwar', 'Boise', 'Brasí_lia', 'Cedar Rapids/Iowa City', 'Chandigarh', 'Chatham-Kent', 'Chennai', 'Clatskanie', 'Cochrane', 'Coimbatore', 'Columbus', 'Consort', 'Dalton', 'Davenport', 'Dehradun', 'Des Moines', 'Dicky Beach', 'Dubai', 'Dubuque', 'East Ballina', 'Faridabad', 'Fernley', 'Flaxton', 'Forrest', 'Gainesville', 'Ghaziabad', 'Goa', 'Gurgaon', 'Guwahati', 'Hepburn Springs', 'Huskisson', 'Hyderabad', 'Indore', 'Inverloch', 'Jaipur', 'Kanpur', 'Kochi', 'Kolkata', 'Lakes Entrance', 'Lakeview', 'Lincoln', 'Lorn', 'Lucknow', 'Ludhiana', 'Macedon', 'Macon', 'Makati City', 'Mandaluyong City', 'Mangalore', 'Mayfield', 'Mc Millan', 'Middleton Beach', 'Miller', 'Mohali', 'Monroe', 'Montville', 'Mumbai', 'Mysore', 'Nagpur', 'Nashik', 'New Delhi', 'Ojo Caliente', 'Orlando', 'Palm Cove', 'Pasay City', 'Pasig City', 'Paynesville', 'Penola', 'Pensacola', 'Phillip Island', 'Pocatello', 'Potrero', 'Princeton', 'Quezon City', 'Rest of Hawaii', 'Rio de Janeiro', 'San Juan City', 'Santa Rosa', 'Savannah', 'Sharjah', 'Singapore', 'Sioux City', 'Sí£o Paulo', 'Tagaytay City', 'Taguig City', 'Tampa Bay', 'Tanunda', 'Trentham East', 'Valdosta', 'Vernonia', 'Victor Harbor', 'Vineland Station', 'Waterloo', 'Weirton', 'Winchester Bay', 'Yorkton']\n",
            "['Average', 'Excellent', 'Good', 'Not rated', 'Poor', 'Very Good']\n"
          ]
        }
      ],
      "source": [
        "print(labelCity)\n",
        "print(labelRating)"
      ]
    },
    {
      "cell_type": "code",
      "execution_count": 42,
      "metadata": {
        "colab": {
          "base_uri": "https://localhost:8080/"
        },
        "id": "dK3ijSJHJPvS",
        "outputId": "de588341-40d6-4e34-d4a8-a02a8a7d936f"
      },
      "outputs": [
        {
          "name": "stdout",
          "output_type": "stream",
          "text": [
            "691    Amritsar\n",
            "694    Amritsar\n",
            "685    Amritsar\n",
            "Name: City, dtype: object\n",
            "691           108, GRD Towers, District Shopping Center, Ranjit Avenue, Amritsar\n",
            "694        Opposite M.K Hotel, District Shopping Centre, Ranjit Avenue, Amritsar\n",
            "685    Shop 3, Opposite Nari Nikaten, Majithia Road, Near Basant Nagar, Amritsar\n",
            "Name: Address, dtype: object\n"
          ]
        }
      ],
      "source": [
        "indicate = find(100,100)\n",
        "for i in indicate:\n",
        "  print(data.iloc[i][\"City\"])\n",
        "  print(data.iloc[i][\"Address\"])"
      ]
    }
  ],
  "metadata": {
    "colab": {
      "provenance": []
    },
    "kernelspec": {
      "display_name": "Python 3",
      "name": "python3"
    },
    "language_info": {
      "name": "python"
    }
  },
  "nbformat": 4,
  "nbformat_minor": 0
}
