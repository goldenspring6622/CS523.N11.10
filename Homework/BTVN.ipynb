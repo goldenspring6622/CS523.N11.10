{
  "nbformat": 4,
  "nbformat_minor": 0,
  "metadata": {
    "colab": {
      "provenance": []
    },
    "kernelspec": {
      "name": "python3",
      "display_name": "Python 3"
    },
    "language_info": {
      "name": "python"
    }
  },
  "cells": [
    {
      "cell_type": "markdown",
      "source": [
        "Bài 1: Một 3D Tree đang được huấn luyện từ tập điểm 3 chiều, sử dụng trung vị chiều để chia thành 2 nhánh cây cho tới khi mọi node lá chứa từ 2 điểm dữ liệu trở xuống. Vẽ cây sau khi được dựng hoàn thành"
      ],
      "metadata": {
        "id": "mE6vXOPLKa8a"
      }
    },
    {
      "cell_type": "code",
      "execution_count": null,
      "metadata": {
        "colab": {
          "base_uri": "https://localhost:8080/"
        },
        "id": "-q01xkz64k6a",
        "outputId": "f65c2049-11d8-4f9f-9ce7-267942de335b"
      },
      "outputs": [
        {
          "output_type": "execute_result",
          "data": {
            "text/plain": [
              "array([[-1.58, -2.01, -4.  ],\n",
              "       [ 0.91,  3.98, -2.8 ],\n",
              "       [-0.73,  4.  ,  1.3 ],\n",
              "       [-4.22,  1.16,  0.16],\n",
              "       [ 4.19, -2.02, -1.05],\n",
              "       [-0.33,  2.15,  2.  ]])"
            ]
          },
          "metadata": {},
          "execution_count": 145
        }
      ],
      "source": [
        "import numpy as np\n",
        "\n",
        "x = np.array([-1.58, 0.91, -0.73, -4.22, 4.19, -0.33])\n",
        "y = np.array([-2.01, 3.98, 4.00, 1.16, -2.02, 2.15])\n",
        "z = np.array([-4, -2.8, 1.3, 0.16, -1.05, 2])\n",
        "point = np.vstack((x, y)).T\n",
        "\n",
        "point"
      ]
    },
    {
      "cell_type": "code",
      "source": [
        "def get_mid_range(data, column=0):\n",
        "    \"\"\" Hàm lấy trung vị chiều\n",
        "    chiều x column=0\n",
        "    chiều y column=1\n",
        "    chiều z column=2\n",
        "    \"\"\"\n",
        "    midrange = (data[:, column].max() + data[:, column].min())/2\n",
        "    return midrange      \n",
        "\n",
        "def split_by(point, value, column=0):\n",
        "    \"\"\" Chia cây theo chiều \n",
        "    chiều x column=0\n",
        "    chiều y column=1\n",
        "    chiều z column=2\n",
        "    \"\"\"\n",
        "    split1 = point[point[:, column] <= value]\n",
        "    split2 = point[point[:, column] > value]\n",
        "    return split1, split2"
      ],
      "metadata": {
        "id": "yisxZEYZ5DtC"
      },
      "execution_count": null,
      "outputs": []
    },
    {
      "cell_type": "code",
      "source": [
        "x_midrange = get_mid_range(point)\n",
        "y1, y2 = split_by(point, x_midrange)\n",
        "\n",
        "# Split values of x1\n",
        "y1"
      ],
      "metadata": {
        "colab": {
          "base_uri": "https://localhost:8080/"
        },
        "id": "AXPYb-ha5FNL",
        "outputId": "60671ca7-8823-49ef-887e-0bc5172cbb24"
      },
      "execution_count": null,
      "outputs": [
        {
          "output_type": "execute_result",
          "data": {
            "text/plain": [
              "array([[-1.58, -2.01, -4.  ],\n",
              "       [-0.73,  4.  ,  1.3 ],\n",
              "       [-4.22,  1.16,  0.16],\n",
              "       [-0.33,  2.15,  2.  ]])"
            ]
          },
          "metadata": {},
          "execution_count": 147
        }
      ]
    },
    {
      "cell_type": "code",
      "source": [
        "# Split values of x1\n",
        "y2"
      ],
      "metadata": {
        "colab": {
          "base_uri": "https://localhost:8080/"
        },
        "id": "S0sdzja95GUy",
        "outputId": "6c65df75-d6b2-48b9-fe3d-5bcf89a804a7"
      },
      "execution_count": null,
      "outputs": [
        {
          "output_type": "execute_result",
          "data": {
            "text/plain": [
              "array([[ 0.91,  3.98, -2.8 ],\n",
              "       [ 4.19, -2.02, -1.05]])"
            ]
          },
          "metadata": {},
          "execution_count": 148
        }
      ]
    },
    {
      "cell_type": "code",
      "source": [
        "y1_midrange = get_mid_range(y1, column=1)\n",
        "\n",
        "print (y1_midrange)"
      ],
      "metadata": {
        "colab": {
          "base_uri": "https://localhost:8080/"
        },
        "id": "B4eFvPRF-ReT",
        "outputId": "86450cb3-431a-4e97-b859-26904c0fbeb6"
      },
      "execution_count": null,
      "outputs": [
        {
          "output_type": "stream",
          "name": "stdout",
          "text": [
            "0.9950000000000001\n"
          ]
        }
      ]
    },
    {
      "cell_type": "code",
      "source": [
        "z1,z2 = split_by(y1, y1_midrange, column=1)\n",
        "z1"
      ],
      "metadata": {
        "colab": {
          "base_uri": "https://localhost:8080/"
        },
        "id": "8b9ISvj856eC",
        "outputId": "f48567cb-1c3e-4ac7-d81c-9b17324d70fa"
      },
      "execution_count": null,
      "outputs": [
        {
          "output_type": "execute_result",
          "data": {
            "text/plain": [
              "array([[-1.58, -2.01, -4.  ]])"
            ]
          },
          "metadata": {},
          "execution_count": 150
        }
      ]
    },
    {
      "cell_type": "code",
      "source": [
        "z2"
      ],
      "metadata": {
        "colab": {
          "base_uri": "https://localhost:8080/"
        },
        "id": "iTnLs6_PAAli",
        "outputId": "12b1f566-8133-4fc5-e7ac-5398273eda5b"
      },
      "execution_count": null,
      "outputs": [
        {
          "output_type": "execute_result",
          "data": {
            "text/plain": [
              "array([[-0.73,  4.  ,  1.3 ],\n",
              "       [-4.22,  1.16,  0.16],\n",
              "       [-0.33,  2.15,  2.  ]])"
            ]
          },
          "metadata": {},
          "execution_count": 151
        }
      ]
    },
    {
      "cell_type": "code",
      "source": [
        "z2_midrange = get_mid_range(z2, column=2)\n",
        "\n",
        "print (z2_midrange)"
      ],
      "metadata": {
        "colab": {
          "base_uri": "https://localhost:8080/"
        },
        "id": "iYMr9KuhIZ66",
        "outputId": "c1af476d-a090-4f87-e38e-fca5437ca20b"
      },
      "execution_count": null,
      "outputs": [
        {
          "output_type": "stream",
          "name": "stdout",
          "text": [
            "1.08\n"
          ]
        }
      ]
    },
    {
      "cell_type": "markdown",
      "source": [
        "Bài 2 :Truyền vào tham số thích hợp để chia cây ra theo chiều thích hợp"
      ],
      "metadata": {
        "id": "FCdW5luB59cS"
      }
    },
    {
      "cell_type": "code",
      "source": [
        "x1,x2 = split_by()\n",
        "x1"
      ],
      "metadata": {
        "colab": {
          "base_uri": "https://localhost:8080/"
        },
        "id": "CtxczYeQGUJx",
        "outputId": "0711eeeb-8330-4063-bbfd-a2e35e44a367"
      },
      "execution_count": null,
      "outputs": [
        {
          "output_type": "execute_result",
          "data": {
            "text/plain": [
              "array([[-4.22,  1.16,  0.16]])"
            ]
          },
          "metadata": {},
          "execution_count": 153
        }
      ]
    },
    {
      "cell_type": "code",
      "source": [
        "x2"
      ],
      "metadata": {
        "colab": {
          "base_uri": "https://localhost:8080/"
        },
        "id": "9SPVTYTHIMh6",
        "outputId": "349f4d6b-a26d-49db-871f-6e7d73a377bd"
      },
      "execution_count": null,
      "outputs": [
        {
          "output_type": "execute_result",
          "data": {
            "text/plain": [
              "array([[-0.73,  4.  ,  1.3 ],\n",
              "       [-0.33,  2.15,  2.  ]])"
            ]
          },
          "metadata": {},
          "execution_count": 154
        }
      ]
    }
  ]
}